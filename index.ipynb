{
 "cells": [
  {
   "cell_type": "markdown",
   "metadata": {},
   "source": [
    "# APIs - Cumulative Lab\n",
    "\n",
    "\n",
    "## Introduction \n",
    "\n",
    "We've seen how the Yelp API works and how to create basic visualizations using Folium. It's time to put those skills to work in order to create a working map! Taking things a step further, you'll also independently explore how to perform pagination in order to retrieve a full results set from the Yelp API.\n",
    "\n",
    "## Objectives\n",
    "\n",
    "You will be able to: \n",
    "\n",
    "* Practice using functions to organize your code\n",
    "* Use pagination to retrieve all results from an API query\n",
    "* Practice parsing data returned from an API query\n",
    "* Practice interpreting visualizations of a dataset\n",
    "* Create maps using Folium"
   ]
  },
  {
   "cell_type": "markdown",
   "metadata": {},
   "source": [
    "## Your Task: Query Yelp for All Businesses in a Category and Analyze the Results\n",
    "\n",
    "![restaurant counter with pizza](images/restaurant_counter.jpg)\n",
    "\n",
    "Photo by <a href=\"https://unsplash.com/@jordanmadrid?utm_source=unsplash&utm_medium=referral&utm_content=creditCopyText\">Jordan Madrid</a> on <a href=\"/s/photos/pizza-restaurant?utm_source=unsplash&utm_medium=referral&utm_content=creditCopyText\">Unsplash</a>"
   ]
  },
  {
   "cell_type": "markdown",
   "metadata": {},
   "source": [
    "### Overview\n",
    "\n",
    "You've now worked with some API calls, but we have yet to see how to retrieve a more complete dataset in a programmatic manner. In this lab, you will write a query of businesses on Yelp, then use *pagination* to retrieve all possible results for that query. Then you will create a summary of your findings, including a Folium map of the geographic locations of those businesses.\n",
    "\n",
    "### Technical Details\n",
    "\n",
    "Returning to the Yelp API, the [documentation](https://www.yelp.com/developers/documentation/v3/business_search) also provides us details regarding the **API limits**. These often include details about the number of requests a user is allowed to make within a specified time limit and the maximum number of results to be returned. In this case, we are told that any request has a **maximum of 50 results per request** and defaults to 20. Furthermore, any search will be limited to a **total of 1000 results**. To retrieve all 1000 of these results, we would have to page through the results piece by piece, retrieving 50 at a time. Processes such as these are often referred to as pagination.\n",
    "\n",
    "Also, be mindful of the **API** ***rate*** **limits**. You can only make **5000 requests per day** and are also can make requests too fast. Start prototyping small before running a loop that could be faulty. You can also use `time.sleep(n)` to add delays. For more details see https://www.yelp.com/developers/documentation/v3/rate_limiting.\n",
    "\n",
    "In this lab, you will define a search and then paginate over the results to retrieve all of the results. You'll then parse these responses as a list of dictionaries (for further exploration) and create a map using Folium to visualize the results geographically.\n",
    "\n",
    "### Requirements\n",
    "\n",
    "#### 1. Make the Initial Request\n",
    "\n",
    "Start by filling in your API key to make the initial request to the business search API. Investigate the structure of the response you get back and start figuring out how you will extract the relevant information.\n",
    "\n",
    "#### 2. Add Pagination\n",
    "\n",
    "Using loops and functions, collect the maximum number of results for your query from the API.\n",
    "\n",
    "#### 3. Perform Exploratory Analysis\n",
    "\n",
    "Interpret visualizations related to the price range, average rating, and number of reviews for all query results.\n",
    "\n",
    "#### 4. Create a Folium Map\n",
    "\n",
    "Using latitude and longitude data, plot the query results on an interactive map."
   ]
  },
  {
   "cell_type": "markdown",
   "metadata": {},
   "source": [
    "## 1. Make the Initial Request\n",
    "\n",
    "### Querying\n",
    "\n",
    "Start by making an initial request to the Yelp API. Your search must include at least 2 parameters: **term** and **location**. For example, you might search for pizza restaurants in NYC. The term and location is up to you but make the request below.\n",
    "\n",
    "Use the `requests` library ([documentation here](https://requests.readthedocs.io/en/master/user/quickstart/#make-a-request)).\n",
    "\n",
    "You'll also need an API key from Yelp. If you haven't done this already, go to the Yelp [Manage App page](https://www.yelp.com/developers/v3/manage_app) and create a new app (after making an account if you haven't already)."
   ]
  },
  {
   "cell_type": "code",
   "execution_count": 1,
   "metadata": {},
   "outputs": [
    {
     "data": {
      "text/plain": [
       "<Response [200]>"
      ]
     },
     "execution_count": 1,
     "metadata": {},
     "output_type": "execute_result"
    }
   ],
   "source": [
    "# Replace None with appropriate code\n",
    "\n",
    "# Import the requests library\n",
    "import requests\n",
    "\n",
    "# Get this from the \"Manage App\" page. Make sure you set them\n",
    "# back to None before pushing this to GitHub, since otherwise\n",
    "# your credentials will be compromised\n",
    "api_key = \"62HE7U2Sc7VrKAKXz0vspn9utBxRz2wJXBgX3gUl6HzR76rwGvVZLTNVZurZQvQKbAuSzWXazEBXuFGUBxen9fcvvSjS890CrYCagnRxwNGC3VMXGYiwUWkBzfORY3Yx\"\n",
    "\n",
    "# These can be whatever you want! But the solution uses \"pizza\"\n",
    "# and \"New York NY\" if you want to compare your work directly\n",
    "term = \"pizza\"\n",
    "location = \"New York NY\"\n",
    "\n",
    "# Set up params for request\n",
    "url = \"https://api.yelp.com/v3/businesses/search\"\n",
    "headers = {\n",
    "    \"Authorization\": \"Bearer {}\".format(api_key)\n",
    "}\n",
    "url_params = {\n",
    "    \"term\": term.replace(\" \", \"+\"),\n",
    "    \"location\": location.replace(\" \", \"+\")\n",
    "}\n",
    "\n",
    "# Make the request using requests.get, passing in\n",
    "# url, headers=headers, and params=url_params\n",
    "response = requests.get(url, headers=headers, params=url_params)\n",
    "\n",
    "# Confirm we got a 200 response\n",
    "response"
   ]
  },
  {
   "cell_type": "code",
   "execution_count": 2,
   "metadata": {},
   "outputs": [
    {
     "data": {
      "text/plain": [
       "dict_keys(['businesses', 'total', 'region'])"
      ]
     },
     "execution_count": 2,
     "metadata": {},
     "output_type": "execute_result"
    }
   ],
   "source": [
    "# Run this cell without changes\n",
    "\n",
    "# Get the response body in JSON format\n",
    "response_json = response.json()\n",
    "# View the keys\n",
    "response_json.keys()"
   ]
  },
  {
   "cell_type": "markdown",
   "metadata": {},
   "source": [
    "### Extracting Data\n",
    "\n",
    "Now, retrieve the value associated with the `'businesses'` key, and inspect its contents."
   ]
  },
  {
   "cell_type": "code",
   "execution_count": 3,
   "metadata": {},
   "outputs": [
    {
     "data": {
      "text/plain": [
       "[{'id': 'zj8Lq1T8KIC5zwFief15jg',\n",
       "  'alias': 'prince-street-pizza-new-york-2',\n",
       "  'name': 'Prince Street Pizza',\n",
       "  'image_url': 'https://s3-media2.fl.yelpcdn.com/bphoto/AaCoCIY53sQkaqrquNKRJQ/o.jpg',\n",
       "  'is_closed': False,\n",
       "  'url': 'https://www.yelp.com/biz/prince-street-pizza-new-york-2?adjust_creative=ZyCwpzTOGgi-Wbvxg7_svw&utm_campaign=yelp_api_v3&utm_medium=api_v3_business_search&utm_source=ZyCwpzTOGgi-Wbvxg7_svw',\n",
       "  'review_count': 4635,\n",
       "  'categories': [{'alias': 'pizza', 'title': 'Pizza'},\n",
       "   {'alias': 'italian', 'title': 'Italian'}],\n",
       "  'rating': 4.5,\n",
       "  'coordinates': {'latitude': 40.72308755605564,\n",
       "   'longitude': -73.99453001177575},\n",
       "  'transactions': ['pickup', 'delivery'],\n",
       "  'price': '$',\n",
       "  'location': {'address1': '27 Prince St',\n",
       "   'address2': None,\n",
       "   'address3': '',\n",
       "   'city': 'New York',\n",
       "   'zip_code': '10012',\n",
       "   'country': 'US',\n",
       "   'state': 'NY',\n",
       "   'display_address': ['27 Prince St', 'New York, NY 10012']},\n",
       "  'phone': '+12129664100',\n",
       "  'display_phone': '(212) 966-4100',\n",
       "  'distance': 1961.8771417367063},\n",
       " {'id': 'ysqgdbSrezXgVwER2kQWKA',\n",
       "  'alias': 'julianas-brooklyn-3',\n",
       "  'name': \"Juliana's\",\n",
       "  'image_url': 'https://s3-media1.fl.yelpcdn.com/bphoto/2WPmXrlpKabbk_0VPLurig/o.jpg',\n",
       "  'is_closed': False,\n",
       "  'url': 'https://www.yelp.com/biz/julianas-brooklyn-3?adjust_creative=ZyCwpzTOGgi-Wbvxg7_svw&utm_campaign=yelp_api_v3&utm_medium=api_v3_business_search&utm_source=ZyCwpzTOGgi-Wbvxg7_svw',\n",
       "  'review_count': 2574,\n",
       "  'categories': [{'alias': 'pizza', 'title': 'Pizza'}],\n",
       "  'rating': 4.5,\n",
       "  'coordinates': {'latitude': 40.70274718768062,\n",
       "   'longitude': -73.99343490196397},\n",
       "  'transactions': ['delivery'],\n",
       "  'price': '$$',\n",
       "  'location': {'address1': '19 Old Fulton St',\n",
       "   'address2': '',\n",
       "   'address3': '',\n",
       "   'city': 'Brooklyn',\n",
       "   'zip_code': '11201',\n",
       "   'country': 'US',\n",
       "   'state': 'NY',\n",
       "   'display_address': ['19 Old Fulton St', 'Brooklyn, NY 11201']},\n",
       "  'phone': '+17185966700',\n",
       "  'display_phone': '(718) 596-6700',\n",
       "  'distance': 308.56984360837544}]"
      ]
     },
     "execution_count": 3,
     "metadata": {},
     "output_type": "execute_result"
    }
   ],
   "source": [
    "# Replace None with appropriate code\n",
    "\n",
    "# Retrieve the value from response_json\n",
    "businesses = response_json[\"businesses\"]\n",
    "\n",
    "# View the first 2 records\n",
    "businesses[:2]"
   ]
  },
  {
   "cell_type": "markdown",
   "metadata": {},
   "source": [
    "### Preparing Data\n",
    "\n",
    "Write a function `prepare_data` that takes in a list of dictionaries like `businesses` and returns a copy that has been prepared for analysis:\n",
    "\n",
    "1. The `coordinates` key-value pair has been converted into two separate key-value pairs, `latitude` and `longitude`\n",
    "2. All other key-value pairs except for `name`, `review_count`, `rating`, and `price` have been dropped\n",
    "3. All dictionaries missing one of the relevant keys or containing null values have been dropped\n",
    "\n",
    "In other words, the final keys for each dictionary should be `name`, `review_count`, `rating`, `price`, `latitude`, and `longitude`.\n",
    "\n",
    "Complete the function in the cell below:"
   ]
  },
  {
   "cell_type": "code",
   "execution_count": 22,
   "metadata": {},
   "outputs": [
    {
     "data": {
      "text/plain": [
       "40.72308755605564"
      ]
     },
     "execution_count": 22,
     "metadata": {},
     "output_type": "execute_result"
    }
   ],
   "source": [
    "businesses[0][\"coordinates\"][\"latitude\"]"
   ]
  },
  {
   "cell_type": "code",
   "execution_count": 23,
   "metadata": {},
   "outputs": [
    {
     "data": {
      "text/plain": [
       "[{'name': 'Prince Street Pizza',\n",
       "  'review_count': 4635,\n",
       "  'rating': 4.5,\n",
       "  'price': '$',\n",
       "  'latitude': 40.72308755605564,\n",
       "  'longitude': -73.99453001177575},\n",
       " {'name': \"Juliana's\",\n",
       "  'review_count': 2574,\n",
       "  'rating': 4.5,\n",
       "  'price': '$$',\n",
       "  'latitude': 40.70274718768062,\n",
       "  'longitude': -73.99343490196397},\n",
       " {'name': \"L'industrie Pizzeria\",\n",
       "  'review_count': 828,\n",
       "  'rating': 4.5,\n",
       "  'price': '$',\n",
       "  'latitude': 40.71162,\n",
       "  'longitude': -73.95783},\n",
       " {'name': 'Rubirosa',\n",
       "  'review_count': 2838,\n",
       "  'rating': 4.5,\n",
       "  'price': '$$',\n",
       "  'latitude': 40.722766,\n",
       "  'longitude': -73.996233},\n",
       " {'name': \"Lombardi's Pizza\",\n",
       "  'review_count': 6481,\n",
       "  'rating': 4.0,\n",
       "  'price': '$$',\n",
       "  'latitude': 40.7215934960083,\n",
       "  'longitude': -73.9955956044561}]"
      ]
     },
     "execution_count": 23,
     "metadata": {},
     "output_type": "execute_result"
    }
   ],
   "source": [
    "# Replace None with appropriate code\n",
    "\n",
    "def prepare_data(data_list):\n",
    "    \"\"\"\n",
    "    This function takes in a list of dictionaries and prepares it\n",
    "    for analysis\n",
    "    \"\"\"\n",
    "    \n",
    "    # Make a new list to hold results\n",
    "    results = []\n",
    "    \n",
    "    for business_data in data_list:\n",
    "    \n",
    "        # Make a new dictionary to hold prepared data for this business\n",
    "        prepared_data = {}\n",
    "        \n",
    "        # Extract name, review_count, rating, and price key-value pairs\n",
    "        # from business_data and add to prepared_data\n",
    "        # If a key is not present in business_data, add it to prepared_data\n",
    "        # with an associated value of None\n",
    "        for key in (\"name\", \"review_count\", \"rating\", \"price\"):\n",
    "            prepared_data[key] = business_data.get(key, None)\n",
    "\n",
    "    \n",
    "        # Parse and add latitude and longitude columns\n",
    "        coordinates = business_data[\"coordinates\"]\n",
    "        prepared_data[\"latitude\"] = coordinates[\"latitude\"]\n",
    "        prepared_data[\"longitude\"] = coordinates[\"longitude\"]\n",
    "        \n",
    "        # Add to list if all values are present\n",
    "        if all(prepared_data.values()):\n",
    "            results.append(prepared_data)\n",
    "    \n",
    "    return results\n",
    "    \n",
    "# Test out function\n",
    "prepared_businesses = prepare_data(businesses)\n",
    "prepared_businesses[:5]"
   ]
  },
  {
   "cell_type": "markdown",
   "metadata": {},
   "source": [
    "Check that your function created the correct keys:"
   ]
  },
  {
   "cell_type": "code",
   "execution_count": 24,
   "metadata": {},
   "outputs": [],
   "source": [
    "# Run this cell without changes\n",
    "\n",
    "assert sorted(list(prepared_businesses[0].keys())) == ['latitude', 'longitude', 'name', 'price', 'rating', 'review_count']"
   ]
  },
  {
   "cell_type": "markdown",
   "metadata": {},
   "source": [
    "The following code will differ depending on your query, but we expect there to be 20 businesses in the original list, and potentially fewer in the prepared list (if any of them were missing data):"
   ]
  },
  {
   "cell_type": "code",
   "execution_count": 25,
   "metadata": {},
   "outputs": [
    {
     "name": "stdout",
     "output_type": "stream",
     "text": [
      "Original: 20\n",
      "Prepared: 20\n"
     ]
    }
   ],
   "source": [
    "# Run this cell without changes\n",
    "print(\"Original:\", len(businesses))\n",
    "print(\"Prepared:\", len(prepared_businesses))"
   ]
  },
  {
   "cell_type": "markdown",
   "metadata": {},
   "source": [
    "Great! We will reuse this function once we have retrieved the full dataset."
   ]
  },
  {
   "cell_type": "markdown",
   "metadata": {},
   "source": [
    "## 2. Add Pagination\n",
    "\n",
    "Now that you are able to extract information from one page of the response, let's figure out how to request as many pages as possible.\n",
    "\n",
    "### Determining the Total\n",
    "\n",
    "Depending on the number of total results for your query, you will either retrieve all of the results, or just the first 1000 (if there are more than 1000 total).\n",
    "\n",
    "We can find the total number of results using the `\"total\"` key:"
   ]
  },
  {
   "cell_type": "code",
   "execution_count": 26,
   "metadata": {},
   "outputs": [
    {
     "data": {
      "text/plain": [
       "12300"
      ]
     },
     "execution_count": 26,
     "metadata": {},
     "output_type": "execute_result"
    }
   ],
   "source": [
    "# Run this cell without changes\n",
    "response_json[\"total\"]"
   ]
  },
  {
   "cell_type": "code",
   "execution_count": 27,
   "metadata": {},
   "outputs": [
    {
     "data": {
      "text/plain": [
       "dict"
      ]
     },
     "execution_count": 27,
     "metadata": {},
     "output_type": "execute_result"
    }
   ],
   "source": [
    "type(response_json)"
   ]
  },
  {
   "cell_type": "markdown",
   "metadata": {},
   "source": [
    "(This is specific to the implementation of the Yelp API. Some APIs will just tell you that there are more pages, or will tell you the number of pages total, rather than the total number of results. If you're not sure, always check the documentation.)\n",
    "\n",
    "In the cell below, assign the variable `total` to either the value shown above (if it is less than 1000), or 1000."
   ]
  },
  {
   "cell_type": "code",
   "execution_count": 28,
   "metadata": {},
   "outputs": [],
   "source": [
    "# Replace None with appropriate code\n",
    "total = 1000"
   ]
  },
  {
   "cell_type": "markdown",
   "metadata": {},
   "source": [
    "### Calculating the Offsets\n",
    "\n",
    "The documentation states in the parameters section:\n",
    "\n",
    "> **Name**: `limit`, **Type:** int, **Description:** Optional. Number of business results to return. By default, it will return 20. Maximum is 50.\n",
    "\n",
    "> **Name**: `offset`, **Type:** int, **Description:** Optional. Offset the list of returned business results by this amount.\n",
    "\n",
    "So, to get the most results with the fewest API calls we want to set a limit of 50 every time. If, say, we wanted to get 210 total results, that would mean:\n",
    "\n",
    "1. Offset of `0` (first 50 records)\n",
    "2. Offset of `50` (second 50 records)\n",
    "3. Offset of `100` (third 50 records)\n",
    "4. Offset of `150` (fourth 50 records)\n",
    "5. Offset of `200` (final 10 records)\n",
    "\n",
    "In the cell below, create a function `get_offsets` that takes in a total and returns a list of offsets for that total. You can assume that there is a limit of 50 every time.\n",
    "\n",
    "*Hint: you can use `range` ([documentation here](https://docs.python.org/3.3/library/stdtypes.html?highlight=range#range)) to do this in one line of code. Just make the returned result is a list.*"
   ]
  },
  {
   "cell_type": "code",
   "execution_count": 29,
   "metadata": {},
   "outputs": [],
   "source": [
    "# Replace None with appropriate code\n",
    "def get_offsets(total):\n",
    "    \"\"\"\n",
    "    Get a list of offsets needed to get all pages\n",
    "    of data up until the total\n",
    "    \"\"\"\n",
    "    return list(range(0, total, 50))\n",
    "    "
   ]
  },
  {
   "cell_type": "markdown",
   "metadata": {},
   "source": [
    "Check that your function works below:"
   ]
  },
  {
   "cell_type": "code",
   "execution_count": 30,
   "metadata": {},
   "outputs": [],
   "source": [
    "# Run this cell without changes\n",
    "\n",
    "assert get_offsets(200) == [0, 50, 100, 150]\n",
    "assert get_offsets(210) == [0, 50, 100, 150, 200]"
   ]
  },
  {
   "cell_type": "markdown",
   "metadata": {},
   "source": [
    "### Putting It All Together\n",
    "\n",
    "Recall that the following variable has already been declared for you:"
   ]
  },
  {
   "cell_type": "code",
   "execution_count": 31,
   "metadata": {},
   "outputs": [
    {
     "data": {
      "text/plain": [
       "{'term': 'pizza', 'location': 'New+York+NY'}"
      ]
     },
     "execution_count": 31,
     "metadata": {},
     "output_type": "execute_result"
    }
   ],
   "source": [
    "# Run this cell without changes\n",
    "url_params"
   ]
  },
  {
   "cell_type": "markdown",
   "metadata": {},
   "source": [
    "We'll go ahead and also specify that the limit should be 50 every time:"
   ]
  },
  {
   "cell_type": "code",
   "execution_count": 32,
   "metadata": {},
   "outputs": [],
   "source": [
    "# Run this cell without changes\n",
    "url_params[\"limit\"] = 50"
   ]
  },
  {
   "cell_type": "markdown",
   "metadata": {},
   "source": [
    "In order to modify the offset, you'll need to add it to `url_params` with the key `\"offset\"` and whatever value is needed.\n",
    "\n",
    "In the cell below, write code that:\n",
    "\n",
    "* Creates an empty list for the full prepared dataset\n",
    "* Loops over all of the offsets from `get_offsets` and makes an API call each time with the specified offset\n",
    "* Calls `prepare_data` to get a cleaned version of the result of each API call\n",
    "* Extends the full prepared dataset list with each query's prepared dataset"
   ]
  },
  {
   "cell_type": "code",
   "execution_count": 34,
   "metadata": {},
   "outputs": [
    {
     "data": {
      "text/plain": [
       "771"
      ]
     },
     "execution_count": 34,
     "metadata": {},
     "output_type": "execute_result"
    }
   ],
   "source": [
    "# Replace None with appropriate code\n",
    "\n",
    "# Create an empty list for the full prepared dataset\n",
    "full_dataset = []\n",
    "\n",
    "for offset in get_offsets(total):\n",
    "    # Add or update the \"offset\" key-value pair in url_params\n",
    "    url_params[\"offset\"] = offset\n",
    "    \n",
    "    # Make the query and get the response\n",
    "    response = requests.get(url, headers=headers, params=url_params)\n",
    "    \n",
    "    # Get the response body in JSON format\n",
    "    response_json = response.json()\n",
    "    \n",
    "    # Get the list of businesses from the response_json\n",
    "    businesses = response_json[\"businesses\"]\n",
    "    \n",
    "    # Call the prepare_data function to get a list of processed data\n",
    "    prepared_businesses = prepare_data(businesses)\n",
    "    \n",
    "    # Extend full_dataset with this list (don't append, or you'll get\n",
    "    # a list of lists instead of a flat list)\n",
    "    full_dataset.extend(prepared_businesses)\n",
    "\n",
    "# Check the length of the full dataset. It will be up to `total`,\n",
    "# potentially less if there were missing values\n",
    "len(full_dataset)"
   ]
  },
  {
   "cell_type": "markdown",
   "metadata": {},
   "source": [
    "This code may take up to a few minutes to run.\n",
    "\n",
    "If you get an error trying to get the response body in JSON format, try adding `time.sleep(1)` right after the `requests.get` line, so your code will sleep for 1 second between each API call."
   ]
  },
  {
   "cell_type": "markdown",
   "metadata": {},
   "source": [
    "## 3. Perform Exploratory Analysis\n",
    "\n",
    "Take the businesses from the previous question and do an initial exploratory analysis. We have provided some plots for you to interpret:"
   ]
  },
  {
   "cell_type": "code",
   "execution_count": 35,
   "metadata": {},
   "outputs": [
    {
     "data": {
      "image/png": "[encoded data removed]",
      "text/plain": [
       "<Figure size 1152x360 with 3 Axes>"
      ]
     },
     "metadata": {
      "needs_background": "light"
     },
     "output_type": "display_data"
    }
   ],
   "source": [
    "# Run this cell without changes\n",
    "from collections import Counter\n",
    "import matplotlib.pyplot as plt\n",
    "%matplotlib inline\n",
    "\n",
    "fig, (ax1, ax2, ax3) = plt.subplots(ncols=3, figsize=(16, 5))\n",
    "\n",
    "# Plot distribution of number of reviews\n",
    "all_review_counts = [x[\"review_count\"] for x in full_dataset]\n",
    "ax1.hist(all_review_counts)\n",
    "ax1.set_title(\"Review Count Distribution\")\n",
    "ax1.set_xlabel(\"Number of Reviews\")\n",
    "ax1.set_ylabel(\"Number of Businesses\")\n",
    "\n",
    "# Plot rating distribution\n",
    "all_ratings = [x[\"rating\"] for x in full_dataset]\n",
    "rating_counter = Counter(all_ratings)\n",
    "rating_keys = sorted(rating_counter.keys())\n",
    "ax2.bar(rating_keys, [rating_counter[key] for key in rating_keys])\n",
    "ax2.set_title(\"Rating Distribution\")\n",
    "ax2.set_xlabel(\"Rating\")\n",
    "ax2.set_ylabel(\"Number of Businesses\")\n",
    "\n",
    "# Plot price distribution\n",
    "all_prices = [x[\"price\"].replace(\"$\", r\"\\$\") for x in full_dataset]\n",
    "price_counter = Counter(all_prices)\n",
    "price_keys = sorted(price_counter.keys())\n",
    "ax3.bar(price_keys, [price_counter[key] for key in price_keys])\n",
    "ax3.set_title(\"Price Distribution\")\n",
    "ax3.set_xlabel(\"Price Category\")\n",
    "ax3.set_ylabel(\"Number of Businesses\");"
   ]
  },
  {
   "cell_type": "markdown",
   "metadata": {},
   "source": [
    "Describe the distributions displayed above and interpret them in the context of your query. (Your answer may differ from the solution branch depending on your query.)"
   ]
  },
  {
   "cell_type": "code",
   "execution_count": null,
   "metadata": {},
   "outputs": [],
   "source": [
    "# Replace None with appropriate text\n",
    "\"\"\"\n",
    "The majority of businesses have less than 1000 reviews. The ratings are almost normally distributed with a peak of ratings between approx. 3.7 and 4.5. \n",
    "There are 4 different price categories. The majority of businesses are in low - medium ranged categories and only around 50 businesses have a high price category. Very few are in the highest price category.\n",
    "\"\"\""
   ]
  },
  {
   "cell_type": "markdown",
   "metadata": {},
   "source": [
    "In the cell below, we also plot the rating distributions by price. In this setup, a price of one dollar sign is \"lower price\" and everything else is \"higher price\"."
   ]
  },
  {
   "cell_type": "code",
   "execution_count": 36,
   "metadata": {},
   "outputs": [
    {
     "data": {
      "image/png": "[encoded data removed]",
      "text/plain": [
       "<Figure size 432x288 with 1 Axes>"
      ]
     },
     "metadata": {
      "needs_background": "light"
     },
     "output_type": "display_data"
    }
   ],
   "source": [
    "# Run this cell without changes\n",
    "\n",
    "higher_price = []\n",
    "lower_price = []\n",
    "for row in full_dataset:\n",
    "    if row[\"price\"] == \"$\":\n",
    "        lower_price.append(row[\"rating\"])\n",
    "    else:\n",
    "        higher_price.append(row[\"rating\"])\n",
    "        \n",
    "fig, ax = plt.subplots()\n",
    "\n",
    "ax.hist([higher_price, lower_price], label=[\"higher price\", \"lower price\"], density=True)\n",
    "\n",
    "ax.legend();"
   ]
  },
  {
   "cell_type": "markdown",
   "metadata": {},
   "source": [
    "Is a higher price associated with a higher rating? (No need for any additional math/statistics, just interpret what you see in the plot.)"
   ]
  },
  {
   "cell_type": "code",
   "execution_count": null,
   "metadata": {},
   "outputs": [],
   "source": [
    "# Replace None with appropriate text\n",
    "\"\"\"\n",
    "It seems like there is a small positive relationship between price and rating. While there are only very few high priced businesses in the lowest rating categories,\n",
    "the majority of high priced businesses are between 4 and 5 ratings\n",
    "\"\"\""
   ]
  },
  {
   "cell_type": "markdown",
   "metadata": {},
   "source": [
    "Finally, let's look at ratings vs. review counts:"
   ]
  },
  {
   "cell_type": "code",
   "execution_count": 37,
   "metadata": {},
   "outputs": [
    {
     "data": {
      "image/png": "[encoded data removed]",
      "text/plain": [
       "<Figure size 1152x360 with 1 Axes>"
      ]
     },
     "metadata": {
      "needs_background": "light"
     },
     "output_type": "display_data"
    }
   ],
   "source": [
    "# Run this cell without changes\n",
    "fig, ax = plt.subplots(figsize=(16,5))\n",
    "\n",
    "ax.scatter(all_review_counts, all_ratings, alpha=0.2)\n",
    "ax.set_xlabel(\"Number of Reviews\")\n",
    "ax.set_ylabel(\"Rating\")\n",
    "# \"zoom in\" to a subset of review counts\n",
    "ax.set_xlim(left=0, right=1000);"
   ]
  },
  {
   "cell_type": "markdown",
   "metadata": {},
   "source": [
    "Is a higher number of reviews associated with a higher rating?"
   ]
  },
  {
   "cell_type": "code",
   "execution_count": null,
   "metadata": {},
   "outputs": [],
   "source": [
    "# Replace None with appropriate text\n",
    "\"\"\"\n",
    "A higher number of reviews is not necessarily associated with a higher rating. Both for very high ratings and very low ratings\n",
    "there are not more than 400 reviews available. In the 4,5 rating category, there are many businesses with less than 200 ratings.\n",
    "\"\"\""
   ]
  },
  {
   "cell_type": "markdown",
   "metadata": {},
   "source": [
    "## 4. Create a Folium Map\n",
    "\n",
    "Make a map using Folium of the businesses you retrieved. Be sure to also add popups to the markers giving some basic information such as name, rating and price.\n",
    "\n",
    "You can center the map around the latitude and longitude of the first item in `full_dataset`."
   ]
  },
  {
   "cell_type": "code",
   "execution_count": 47,
   "metadata": {},
   "outputs": [],
   "source": [
    "longs = []\n",
    "for i in full_dataset:\n",
    "    longs.append(i[\"longitude\"])\n",
    "lats = []\n",
    "for i in full_dataset:\n",
    "    lats.append(i[\"latitude\"])"
   ]
  },
  {
   "cell_type": "code",
   "execution_count": 51,
   "metadata": {},
   "outputs": [],
   "source": [
    "from statistics import mean"
   ]
  },
  {
   "cell_type": "code",
   "execution_count": 53,
   "metadata": {},
   "outputs": [],
   "source": [
    "avg_long = mean(longs)\n",
    "avg_lats = mean(lats)"
   ]
  },
  {
   "cell_type": "code",
   "execution_count": 54,
   "metadata": {},
   "outputs": [
    {
     "data": {
      "text/html": [
       "<div style=\"width:100%;\"><div style=\"position:relative;width:100%;height:0;padding-bottom:60%;\"><span style=\"color:#565656\">Make this Notebook Trusted to load map: File -> Trust Notebook</span><iframe src=\"about:blank\" style=\"position:absolute;width:100%;height:100%;left:0;top:0;border:none !important;\" data-html=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 onload=\"this.contentDocument.open();this.contentDocument.write(atob(this.getAttribute('data-html')));this.contentDocument.close();\" allowfullscreen webkitallowfullscreen mozallowfullscreen></iframe></div></div>"
      ],
      "text/plain": [
       "<folium.folium.Map at 0x2947f91df10>"
      ]
     },
     "execution_count": 54,
     "metadata": {},
     "output_type": "execute_result"
    }
   ],
   "source": [
    "# Replace None with appropriate code\n",
    "\n",
    "# Import the library\n",
    "import folium\n",
    "\n",
    "# Set up center latitude and longitude\n",
    "center_lat = avg_lats\n",
    "center_long = avg_long\n",
    "\n",
    "# Initialize map with center lat and long\n",
    "yelp_map = folium.Map([center_lat, center_long], zoom_start=13)\n",
    "\n",
    "# Adjust this limit to see more or fewer businesses\n",
    "limit=100\n",
    "\n",
    "for business in full_dataset[:limit]:\n",
    "    # Extract information about business\n",
    "    lat = business[\"latitude\"]\n",
    "    long = business[\"longitude\"]\n",
    "    name = business[\"name\"]\n",
    "    rating = business[\"rating\"]\n",
    "    price = business[\"price\"]\n",
    "    details = \"{}\\nPrice: {} Rating:{}\".format(name,price,rating)\n",
    "    \n",
    "    # Create popup with relevant details\n",
    "    popup_text = \"Latitude: {}, Longitude: {}\".format(lat,long)\n",
    "    popup = folium.Popup(popup_text, parse_html=True)\n",
    "    \n",
    "    # Create marker with relevant lat/long and popup\n",
    "    marker = folium.Marker(location=[lat, long], popup=popup)\n",
    "    \n",
    "    marker.add_to(yelp_map)\n",
    "    \n",
    "yelp_map"
   ]
  },
  {
   "cell_type": "markdown",
   "metadata": {},
   "source": [
    "## Summary\n",
    "\n",
    "Nice work! In this lab, you've made multiple API calls to Yelp in order to paginate through a results set, performing some basic exploratory analysis and then creating a nice interactive map to display the results using Folium! Well done!"
   ]
  }
 ],
 "metadata": {
  "kernelspec": {
   "display_name": "Python 3",
   "language": "python",
   "name": "python3"
  },
  "language_info": {
   "codemirror_mode": {
    "name": "ipython",
    "version": 3
   },
   "file_extension": ".py",
   "mimetype": "text/x-python",
   "name": "python",
   "nbconvert_exporter": "python",
   "pygments_lexer": "ipython3",
   "version": "3.8.5"
  },
  "toc": {
   "base_numbering": 1,
   "nav_menu": {},
   "number_sections": true,
   "sideBar": true,
   "skip_h1_title": false,
   "title_cell": "Table of Contents",
   "title_sidebar": "Contents",
   "toc_cell": false,
   "toc_position": {},
   "toc_section_display": true,
   "toc_window_display": false
  }
 },
 "nbformat": 4,
 "nbformat_minor": 2
}
